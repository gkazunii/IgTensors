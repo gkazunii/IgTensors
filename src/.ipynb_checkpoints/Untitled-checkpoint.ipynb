{
 "cells": [
  {
   "cell_type": "code",
   "execution_count": 5,
   "id": "b7685e05-dc34-4fa1-a17a-d51437292038",
   "metadata": {},
   "outputs": [
    {
     "data": {
      "text/plain": [
       "\"101423\""
      ]
     },
     "execution_count": 5,
     "metadata": {},
     "output_type": "execute_result"
    }
   ],
   "source": [
    "\"10\" * \"14\" * \"23\""
   ]
  },
  {
   "cell_type": "code",
   "execution_count": null,
   "id": "0c8fe217-1927-4355-b9a6-a3fafd15226a",
   "metadata": {},
   "outputs": [],
   "source": []
  },
  {
   "cell_type": "code",
   "execution_count": 8,
   "id": "d1dbae47-c3de-4309-a817-bb125a1d09ce",
   "metadata": {},
   "outputs": [
    {
     "data": {
      "text/plain": [
       "\"101413\""
      ]
     },
     "execution_count": 8,
     "metadata": {},
     "output_type": "execute_result"
    }
   ],
   "source": [
    "prod([\"10\",\"14\",\"13\"])"
   ]
  },
  {
   "cell_type": "code",
   "execution_count": 10,
   "id": "e069451f-0077-4f8c-862a-0bde926b2833",
   "metadata": {},
   "outputs": [
    {
     "data": {
      "text/plain": [
       "11"
      ]
     },
     "execution_count": 10,
     "metadata": {},
     "output_type": "execute_result"
    }
   ],
   "source": [
    "length(\"12324145353\")"
   ]
  },
  {
   "cell_type": "code",
   "execution_count": 12,
   "id": "50f7df06-2072-47df-b38d-d11cf4c075f4",
   "metadata": {},
   "outputs": [
    {
     "data": {
      "text/plain": [
       "3"
      ]
     },
     "execution_count": 12,
     "metadata": {},
     "output_type": "execute_result"
    }
   ],
   "source": [
    "length([\"10\",\"14\",\"13\"])"
   ]
  },
  {
   "cell_type": "code",
   "execution_count": 40,
   "id": "73ce6146-3f16-4e27-865d-4808afd03a2d",
   "metadata": {},
   "outputs": [
    {
     "data": {
      "text/plain": [
       "3-element Vector{Int64}:\n",
       " 4\n",
       " 4\n",
       " 4"
      ]
     },
     "execution_count": 40,
     "metadata": {},
     "output_type": "execute_result"
    }
   ],
   "source": [
    "idx = [2,3,5]\n",
    "tensor_size = [4,4,4]"
   ]
  },
  {
   "cell_type": "code",
   "execution_count": 41,
   "id": "d5cc11f1-c431-4ca3-8224-43f9424851de",
   "metadata": {},
   "outputs": [
    {
     "data": {
      "text/plain": [
       "true"
      ]
     },
     "execution_count": 41,
     "metadata": {},
     "output_type": "execute_result"
    }
   ],
   "source": [
    "idx ≤ tensor_size"
   ]
  },
  {
   "cell_type": "code",
   "execution_count": 42,
   "id": "4ce6135e-3e17-4c47-8ade-a7d93bfe9352",
   "metadata": {},
   "outputs": [
    {
     "ename": "LoadError",
     "evalue": "AssertionError: hoge",
     "output_type": "error",
     "traceback": [
      "AssertionError: hoge",
      "",
      "Stacktrace:",
      " [1] top-level scope",
      "   @ In[42]:1"
     ]
    }
   ],
   "source": [
    "@assert all( (tensor_size .- idx) .>0 ) \"hoge\""
   ]
  },
  {
   "cell_type": "code",
   "execution_count": 37,
   "id": "6986ede8-e399-4a50-864c-114eb43afe45",
   "metadata": {},
   "outputs": [
    {
     "data": {
      "text/plain": [
       "3-element Vector{Int64}:\n",
       " 2\n",
       " 1\n",
       " 2"
      ]
     },
     "execution_count": 37,
     "metadata": {},
     "output_type": "execute_result"
    }
   ],
   "source": [
    "tensor_size .- idx"
   ]
  },
  {
   "cell_type": "code",
   "execution_count": 47,
   "id": "3b8e4ba9-63f8-4647-a832-1c537e3ca1ac",
   "metadata": {},
   "outputs": [
    {
     "data": {
      "text/plain": [
       "4×4×4 Array{Float64, 3}:\n",
       "[:, :, 1] =\n",
       " 0.0  0.0  0.0  0.0\n",
       " 0.0  0.0  0.0  0.0\n",
       " 0.0  0.0  0.0  0.0\n",
       " 0.0  0.0  0.0  0.0\n",
       "\n",
       "[:, :, 2] =\n",
       " 0.0  0.0  0.0  0.0\n",
       " 0.0  0.0  0.0  0.0\n",
       " 0.0  0.0  0.0  0.0\n",
       " 0.0  0.0  0.0  0.0\n",
       "\n",
       "[:, :, 3] =\n",
       " 0.0  0.0  0.0  0.0\n",
       " 0.0  0.0  0.0  0.0\n",
       " 0.0  0.0  0.0  0.0\n",
       " 0.0  0.0  0.0  0.0\n",
       "\n",
       "[:, :, 4] =\n",
       " 0.0  0.0  0.0  0.0\n",
       " 0.0  0.0  0.0  0.0\n",
       " 0.0  0.0  0.0  0.0\n",
       " 0.0  0.0  0.0  0.0"
      ]
     },
     "execution_count": 47,
     "metadata": {},
     "output_type": "execute_result"
    }
   ],
   "source": [
    "zeros(Float64,tensor_size...)"
   ]
  },
  {
   "cell_type": "code",
   "execution_count": 51,
   "id": "b616e889-de84-4521-b092-f40cca24a6da",
   "metadata": {},
   "outputs": [
    {
     "data": {
      "text/plain": [
       "3-element Vector{Int64}:\n",
       " 4\n",
       " 4\n",
       " 4"
      ]
     },
     "execution_count": 51,
     "metadata": {},
     "output_type": "execute_result"
    }
   ],
   "source": [
    "tensor_size"
   ]
  },
  {
   "cell_type": "code",
   "execution_count": 79,
   "id": "45593363-bac4-4c97-a5f2-0af32519871e",
   "metadata": {},
   "outputs": [],
   "source": [
    "CartesianIndices((4,4,4))\n",
    "p = rand(4,4,4);"
   ]
  },
  {
   "cell_type": "code",
   "execution_count": 83,
   "id": "b78b7d42-96bf-477b-a9a0-2512cccc2b06",
   "metadata": {},
   "outputs": [
    {
     "data": {
      "text/plain": [
       "4×4×4 Array{Float64, 3}:\n",
       "[:, :, 1] =\n",
       " 0.648405  0.15408   0.794509  0.442953\n",
       " 0.191608  0.354289  0.102089  0.785584\n",
       " 0.510585  0.125176  0.892467  0.68783\n",
       " 0.664366  0.859203  0.890352  0.229543\n",
       "\n",
       "[:, :, 2] =\n",
       " 0.302282   0.445581  0.0521939  0.721567\n",
       " 0.95803    0.236874  0.192363   0.675476\n",
       " 0.0112381  0.562203  0.913982   0.413991\n",
       " 0.463044   0.555717  0.864481   0.712063\n",
       "\n",
       "[:, :, 3] =\n",
       " 0.857069  0.837055  0.31648    0.248151\n",
       " 0.780826  0.4347    0.386605   0.81438\n",
       " 0.326695  0.28343   0.0121699  0.164951\n",
       " 0.443585  0.617622  0.669122   0.141952\n",
       "\n",
       "[:, :, 4] =\n",
       " 0.579181  0.11498   0.531555  0.747728\n",
       " 0.587394  0.557212  0.465087  0.451246\n",
       " 0.649025  0.894708  0.296086  0.788931\n",
       " 0.742296  0.515508  0.290961  0.669778"
      ]
     },
     "execution_count": 83,
     "metadata": {},
     "output_type": "execute_result"
    }
   ],
   "source": [
    "p"
   ]
  },
  {
   "cell_type": "code",
   "execution_count": 82,
   "id": "09779d28-682e-4087-a289-e502d8fbfa17",
   "metadata": {},
   "outputs": [
    {
     "name": "stdout",
     "output_type": "stream",
     "text": [
      "(x, p[x]) = (CartesianIndex(1, 1, 1), 0.6484054059559857)\n",
      "(x, p[x]) = (CartesianIndex(2, 1, 1), 0.1916080193770131)\n",
      "(x, p[x]) = (CartesianIndex(3, 1, 1), 0.5105846726947711)\n",
      "(x, p[x]) = (CartesianIndex(4, 1, 1), 0.664365890915734)\n",
      "(x, p[x]) = (CartesianIndex(1, 2, 1), 0.15407976493645414)\n",
      "(x, p[x]) = (CartesianIndex(2, 2, 1), 0.3542887506052437)\n",
      "(x, p[x]) = (CartesianIndex(3, 2, 1), 0.12517613176259834)\n",
      "(x, p[x]) = (CartesianIndex(4, 2, 1), 0.8592029009864469)\n",
      "(x, p[x]) = (CartesianIndex(1, 3, 1), 0.7945088388909662)\n",
      "(x, p[x]) = (CartesianIndex(2, 3, 1), 0.10208935757502091)\n",
      "(x, p[x]) = (CartesianIndex(3, 3, 1), 0.8924674044043821)\n",
      "(x, p[x]) = (CartesianIndex(4, 3, 1), 0.8903521300186314)\n",
      "(x, p[x]) = (CartesianIndex(1, 4, 1), 0.4429533078400778)\n",
      "(x, p[x]) = (CartesianIndex(2, 4, 1), 0.7855838275390682)\n",
      "(x, p[x]) = (CartesianIndex(3, 4, 1), 0.687829626999253)\n",
      "(x, p[x]) = (CartesianIndex(4, 4, 1), 0.22954320278546547)\n",
      "(x, p[x]) = (CartesianIndex(1, 1, 2), 0.3022817493572666)\n",
      "(x, p[x]) = (CartesianIndex(2, 1, 2), 0.9580296436476586)\n",
      "(x, p[x]) = (CartesianIndex(3, 1, 2), 0.011238068890383035)\n",
      "(x, p[x]) = (CartesianIndex(4, 1, 2), 0.4630435015426764)\n",
      "(x, p[x]) = (CartesianIndex(1, 2, 2), 0.4455814349900217)\n",
      "(x, p[x]) = (CartesianIndex(2, 2, 2), 0.23687397712744174)\n",
      "(x, p[x]) = (CartesianIndex(3, 2, 2), 0.5622031656813965)\n",
      "(x, p[x]) = (CartesianIndex(4, 2, 2), 0.555716545415416)\n",
      "(x, p[x]) = (CartesianIndex(1, 3, 2), 0.05219394682400369)\n",
      "(x, p[x]) = (CartesianIndex(2, 3, 2), 0.1923627930258085)\n",
      "(x, p[x]) = (CartesianIndex(3, 3, 2), 0.9139817797019972)\n",
      "(x, p[x]) = (CartesianIndex(4, 3, 2), 0.8644814712060862)\n",
      "(x, p[x]) = (CartesianIndex(1, 4, 2), 0.7215673374210054)\n",
      "(x, p[x]) = (CartesianIndex(2, 4, 2), 0.6754762299285442)\n",
      "(x, p[x]) = (CartesianIndex(3, 4, 2), 0.4139907215440338)\n",
      "(x, p[x]) = (CartesianIndex(4, 4, 2), 0.7120627090818616)\n",
      "(x, p[x]) = (CartesianIndex(1, 1, 3), 0.8570685407539652)\n",
      "(x, p[x]) = (CartesianIndex(2, 1, 3), 0.7808260485056705)\n",
      "(x, p[x]) = (CartesianIndex(3, 1, 3), 0.326695347303825)\n",
      "(x, p[x]) = (CartesianIndex(4, 1, 3), 0.4435846170839578)\n",
      "(x, p[x]) = (CartesianIndex(1, 2, 3), 0.8370553746011359)\n",
      "(x, p[x]) = (CartesianIndex(2, 2, 3), 0.43469978595047953)\n",
      "(x, p[x]) = (CartesianIndex(3, 2, 3), 0.28343037599999354)\n",
      "(x, p[x]) = (CartesianIndex(4, 2, 3), 0.6176218369065157)\n",
      "(x, p[x]) = (CartesianIndex(1, 3, 3), 0.31648011697509704)\n",
      "(x, p[x]) = (CartesianIndex(2, 3, 3), 0.38660464844125886)\n",
      "(x, p[x]) = (CartesianIndex(3, 3, 3), 0.012169855003480445)\n",
      "(x, p[x]) = (CartesianIndex(4, 3, 3), 0.6691223794038643)\n",
      "(x, p[x]) = (CartesianIndex(1, 4, 3), 0.2481510220724623)\n",
      "(x, p[x]) = (CartesianIndex(2, 4, 3), 0.8143797733420629)\n",
      "(x, p[x]) = (CartesianIndex(3, 4, 3), 0.164950578342683)\n",
      "(x, p[x]) = (CartesianIndex(4, 4, 3), 0.14195248347946332)\n",
      "(x, p[x]) = (CartesianIndex(1, 1, 4), 0.5791812052753215)\n",
      "(x, p[x]) = (CartesianIndex(2, 1, 4), 0.5873944003349519)\n",
      "(x, p[x]) = (CartesianIndex(3, 1, 4), 0.6490253436026499)\n",
      "(x, p[x]) = (CartesianIndex(4, 1, 4), 0.7422959771644064)\n",
      "(x, p[x]) = (CartesianIndex(1, 2, 4), 0.11497976104411622)\n",
      "(x, p[x]) = (CartesianIndex(2, 2, 4), 0.5572123148294557)\n",
      "(x, p[x]) = (CartesianIndex(3, 2, 4), 0.894707811866034)\n",
      "(x, p[x]) = (CartesianIndex(4, 2, 4), 0.5155076017481102)\n",
      "(x, p[x]) = (CartesianIndex(1, 3, 4), 0.5315553862186289)\n",
      "(x, p[x]) = (CartesianIndex(2, 3, 4), 0.4650871483346505)\n",
      "(x, p[x]) = (CartesianIndex(3, 3, 4), 0.2960859867408324)\n",
      "(x, p[x]) = (CartesianIndex(4, 3, 4), 0.2909611499253796)\n",
      "(x, p[x]) = (CartesianIndex(1, 4, 4), 0.7477281760535677)\n",
      "(x, p[x]) = (CartesianIndex(2, 4, 4), 0.4512461244989796)\n",
      "(x, p[x]) = (CartesianIndex(3, 4, 4), 0.78893091319459)\n",
      "(x, p[x]) = (CartesianIndex(4, 4, 4), 0.669777692068481)\n"
     ]
    }
   ],
   "source": [
    "for x in CartesianIndices(Tuple(tensor_size))\n",
    "    @show x,p[x]\n",
    "end"
   ]
  },
  {
   "cell_type": "code",
   "execution_count": 60,
   "id": "96246a92-47ac-4d11-83ea-55f7f28e2bea",
   "metadata": {},
   "outputs": [
    {
     "ename": "LoadError",
     "evalue": "UndefVarError: totuple not defined",
     "output_type": "error",
     "traceback": [
      "UndefVarError: totuple not defined",
      "",
      "Stacktrace:",
      " [1] top-level scope",
      "   @ In[60]:1"
     ]
    }
   ],
   "source": [
    "totuple(4,4,4)"
   ]
  },
  {
   "cell_type": "code",
   "execution_count": 75,
   "id": "9ce09287-4018-4a04-a221-53890907d09a",
   "metadata": {},
   "outputs": [
    {
     "data": {
      "text/plain": [
       "binary_from_idx (generic function with 1 method)"
      ]
     },
     "execution_count": 75,
     "metadata": {},
     "output_type": "execute_result"
    }
   ],
   "source": [
    "function binary_from_idx(idx, tensor_size)\n",
    "    \n",
    "     D = length(idx)\n",
    "    bi = Vector{String}(undef,D)\n",
    "    \n",
    "    for d = 1:D\n",
    "        logmode = Int( log2( tensor_size[d] ) )\n",
    "        bi[d] = lpad(string(idx[d]-1,base=2), logmode, '0')\n",
    "    end\n",
    "    \n",
    "    return bi\n",
    "end"
   ]
  },
  {
   "cell_type": "code",
   "execution_count": null,
   "id": "f4b4d897-cc93-4529-b384-e36cf0c85077",
   "metadata": {},
   "outputs": [],
   "source": []
  }
 ],
 "metadata": {
  "kernelspec": {
   "display_name": "Julia 1.8.5",
   "language": "julia",
   "name": "julia-1.8"
  },
  "language_info": {
   "file_extension": ".jl",
   "mimetype": "application/julia",
   "name": "julia",
   "version": "1.8.5"
  }
 },
 "nbformat": 4,
 "nbformat_minor": 5
}
